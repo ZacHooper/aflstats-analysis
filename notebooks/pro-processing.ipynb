{
 "cells": [
  {
   "cell_type": "markdown",
   "metadata": {},
   "source": [
    "# Data Pre Processing\n",
    "\n",
    "Making sure the afttables dataset is cleaned and prepped for analysis\n",
    "\n",
    "Import required libraries"
   ]
  },
  {
   "cell_type": "code",
   "execution_count": 330,
   "metadata": {},
   "outputs": [],
   "source": [
    "import pandas as pd\n",
    "import matplotlib.pyplot as plt"
   ]
  },
  {
   "cell_type": "markdown",
   "metadata": {},
   "source": [
    "Import the dataset"
   ]
  },
  {
   "cell_type": "code",
   "execution_count": 331,
   "metadata": {},
   "outputs": [
    {
     "data": {
      "text/html": [
       "<div>\n",
       "<style scoped>\n",
       "    .dataframe tbody tr th:only-of-type {\n",
       "        vertical-align: middle;\n",
       "    }\n",
       "\n",
       "    .dataframe tbody tr th {\n",
       "        vertical-align: top;\n",
       "    }\n",
       "\n",
       "    .dataframe thead th {\n",
       "        text-align: right;\n",
       "    }\n",
       "</style>\n",
       "<table border=\"1\" class=\"dataframe\">\n",
       "  <thead>\n",
       "    <tr style=\"text-align: right;\">\n",
       "      <th></th>\n",
       "      <th>yearly_match_number</th>\n",
       "      <th>year</th>\n",
       "      <th>round</th>\n",
       "      <th>day</th>\n",
       "      <th>date</th>\n",
       "      <th>time</th>\n",
       "      <th>attendance</th>\n",
       "      <th>venue</th>\n",
       "      <th>home_team</th>\n",
       "      <th>home_q1_goals</th>\n",
       "      <th>...</th>\n",
       "      <th>away_q2_points</th>\n",
       "      <th>away_q2_score</th>\n",
       "      <th>away_q3_goals</th>\n",
       "      <th>away_q3_points</th>\n",
       "      <th>away_q3_score</th>\n",
       "      <th>away_q4_goals</th>\n",
       "      <th>away_q4_points</th>\n",
       "      <th>away_q4_score</th>\n",
       "      <th>away_final_score</th>\n",
       "      <th>is_bye</th>\n",
       "    </tr>\n",
       "  </thead>\n",
       "  <tbody>\n",
       "    <tr>\n",
       "      <th>0</th>\n",
       "      <td>0</td>\n",
       "      <td>1897</td>\n",
       "      <td>1</td>\n",
       "      <td>Sat</td>\n",
       "      <td>08-May-1897</td>\n",
       "      <td>3:00 PM</td>\n",
       "      <td>3,000</td>\n",
       "      <td>Brunswick St</td>\n",
       "      <td>Fitzroy</td>\n",
       "      <td>0.0</td>\n",
       "      <td>...</td>\n",
       "      <td>3.0</td>\n",
       "      <td>9.0</td>\n",
       "      <td>2.0</td>\n",
       "      <td>3.0</td>\n",
       "      <td>15.0</td>\n",
       "      <td>2.0</td>\n",
       "      <td>4.0</td>\n",
       "      <td>16.0</td>\n",
       "      <td>16.0</td>\n",
       "      <td>0</td>\n",
       "    </tr>\n",
       "    <tr>\n",
       "      <th>1</th>\n",
       "      <td>1</td>\n",
       "      <td>1897</td>\n",
       "      <td>1</td>\n",
       "      <td>Sat</td>\n",
       "      <td>08-May-1897</td>\n",
       "      <td>3:00 PM</td>\n",
       "      <td>NaN</td>\n",
       "      <td>Victoria Park</td>\n",
       "      <td>Collingwood</td>\n",
       "      <td>1.0</td>\n",
       "      <td>...</td>\n",
       "      <td>2.0</td>\n",
       "      <td>14.0</td>\n",
       "      <td>2.0</td>\n",
       "      <td>4.0</td>\n",
       "      <td>16.0</td>\n",
       "      <td>2.0</td>\n",
       "      <td>4.0</td>\n",
       "      <td>16.0</td>\n",
       "      <td>16.0</td>\n",
       "      <td>0</td>\n",
       "    </tr>\n",
       "    <tr>\n",
       "      <th>2</th>\n",
       "      <td>2</td>\n",
       "      <td>1897</td>\n",
       "      <td>1</td>\n",
       "      <td>Sat</td>\n",
       "      <td>08-May-1897</td>\n",
       "      <td>3:00 PM</td>\n",
       "      <td>NaN</td>\n",
       "      <td>Corio Oval</td>\n",
       "      <td>Geelong</td>\n",
       "      <td>0.0</td>\n",
       "      <td>...</td>\n",
       "      <td>4.0</td>\n",
       "      <td>22.0</td>\n",
       "      <td>6.0</td>\n",
       "      <td>4.0</td>\n",
       "      <td>40.0</td>\n",
       "      <td>7.0</td>\n",
       "      <td>5.0</td>\n",
       "      <td>47.0</td>\n",
       "      <td>47.0</td>\n",
       "      <td>0</td>\n",
       "    </tr>\n",
       "    <tr>\n",
       "      <th>3</th>\n",
       "      <td>3</td>\n",
       "      <td>1897</td>\n",
       "      <td>1</td>\n",
       "      <td>Sat</td>\n",
       "      <td>08-May-1897</td>\n",
       "      <td>3:00 PM</td>\n",
       "      <td>NaN</td>\n",
       "      <td>Lake Oval</td>\n",
       "      <td>South Melbourne</td>\n",
       "      <td>0.0</td>\n",
       "      <td>...</td>\n",
       "      <td>3.0</td>\n",
       "      <td>27.0</td>\n",
       "      <td>5.0</td>\n",
       "      <td>4.0</td>\n",
       "      <td>34.0</td>\n",
       "      <td>6.0</td>\n",
       "      <td>8.0</td>\n",
       "      <td>44.0</td>\n",
       "      <td>44.0</td>\n",
       "      <td>0</td>\n",
       "    </tr>\n",
       "    <tr>\n",
       "      <th>4</th>\n",
       "      <td>4</td>\n",
       "      <td>1897</td>\n",
       "      <td>2</td>\n",
       "      <td>Sat</td>\n",
       "      <td>15-May-1897</td>\n",
       "      <td>3:00 PM</td>\n",
       "      <td>NaN</td>\n",
       "      <td>Lake Oval</td>\n",
       "      <td>South Melbourne</td>\n",
       "      <td>2.0</td>\n",
       "      <td>...</td>\n",
       "      <td>2.0</td>\n",
       "      <td>14.0</td>\n",
       "      <td>2.0</td>\n",
       "      <td>3.0</td>\n",
       "      <td>15.0</td>\n",
       "      <td>5.0</td>\n",
       "      <td>6.0</td>\n",
       "      <td>36.0</td>\n",
       "      <td>36.0</td>\n",
       "      <td>0</td>\n",
       "    </tr>\n",
       "  </tbody>\n",
       "</table>\n",
       "<p>5 rows × 37 columns</p>\n",
       "</div>"
      ],
      "text/plain": [
       "   yearly_match_number  year round  day         date     time attendance  \\\n",
       "0                    0  1897     1  Sat  08-May-1897  3:00 PM      3,000   \n",
       "1                    1  1897     1  Sat  08-May-1897  3:00 PM        NaN   \n",
       "2                    2  1897     1  Sat  08-May-1897  3:00 PM        NaN   \n",
       "3                    3  1897     1  Sat  08-May-1897  3:00 PM        NaN   \n",
       "4                    4  1897     2  Sat  15-May-1897  3:00 PM        NaN   \n",
       "\n",
       "           venue        home_team  home_q1_goals  ...  away_q2_points  \\\n",
       "0   Brunswick St          Fitzroy            0.0  ...             3.0   \n",
       "1  Victoria Park      Collingwood            1.0  ...             2.0   \n",
       "2     Corio Oval          Geelong            0.0  ...             4.0   \n",
       "3      Lake Oval  South Melbourne            0.0  ...             3.0   \n",
       "4      Lake Oval  South Melbourne            2.0  ...             2.0   \n",
       "\n",
       "   away_q2_score  away_q3_goals  away_q3_points  away_q3_score  away_q4_goals  \\\n",
       "0            9.0            2.0             3.0           15.0            2.0   \n",
       "1           14.0            2.0             4.0           16.0            2.0   \n",
       "2           22.0            6.0             4.0           40.0            7.0   \n",
       "3           27.0            5.0             4.0           34.0            6.0   \n",
       "4           14.0            2.0             3.0           15.0            5.0   \n",
       "\n",
       "   away_q4_points  away_q4_score  away_final_score  is_bye  \n",
       "0             4.0           16.0              16.0       0  \n",
       "1             4.0           16.0              16.0       0  \n",
       "2             5.0           47.0              47.0       0  \n",
       "3             8.0           44.0              44.0       0  \n",
       "4             6.0           36.0              36.0       0  \n",
       "\n",
       "[5 rows x 37 columns]"
      ]
     },
     "execution_count": 331,
     "metadata": {},
     "output_type": "execute_result"
    }
   ],
   "source": [
    "matches = pd.read_csv('../afltables_matches.csv', index_col = 0)\n",
    "matches.head()"
   ]
  },
  {
   "cell_type": "markdown",
   "metadata": {},
   "source": [
    "# Drop Redundant Data Types\n",
    "Drop the initial redundant features.\n",
    "\n",
    "- `year` : The matches' date will cover this feature\n",
    "- `day` : When converted to a datetime this will be easily found with the date feature\n",
    "- All Q scores : For the ELO Ratings the quarter time scores are not required"
   ]
  },
  {
   "cell_type": "code",
   "execution_count": 332,
   "metadata": {},
   "outputs": [],
   "source": [
    "home_q_scores = ['home_q1_goals', 'home_q1_points', 'home_q1_score',\n",
    "                 'home_q2_goals', 'home_q2_points', 'home_q2_score',\n",
    "                 'home_q3_goals', 'home_q3_points', 'home_q3_score',\n",
    "                 'home_q4_goals', 'home_q4_points', 'home_q4_score']\n",
    "away_q_scores = ['away_q1_goals', 'away_q1_points', 'away_q1_score',\n",
    "                 'away_q2_goals', 'away_q2_points', 'away_q2_score',\n",
    "                 'away_q3_goals', 'away_q3_points', 'away_q3_score',\n",
    "                 'away_q4_goals', 'away_q4_points', 'away_q4_score']\n",
    "matches.drop(['year', 'day'] + home_q_scores + away_q_scores, axis = 1, inplace=True)"
   ]
  },
  {
   "cell_type": "markdown",
   "metadata": {},
   "source": [
    "# Fix Data Types"
   ]
  },
  {
   "cell_type": "code",
   "execution_count": 333,
   "metadata": {},
   "outputs": [
    {
     "data": {
      "text/plain": [
       "yearly_match_number      int64\n",
       "round                   object\n",
       "date                    object\n",
       "time                    object\n",
       "attendance              object\n",
       "venue                   object\n",
       "home_team               object\n",
       "home_final_score       float64\n",
       "away_team               object\n",
       "away_final_score       float64\n",
       "is_bye                   int64\n",
       "dtype: object"
      ]
     },
     "execution_count": 333,
     "metadata": {},
     "output_type": "execute_result"
    }
   ],
   "source": [
    "matches.dtypes"
   ]
  },
  {
   "cell_type": "markdown",
   "metadata": {},
   "source": [
    "## Time / Date Features"
   ]
  },
  {
   "cell_type": "code",
   "execution_count": 334,
   "metadata": {},
   "outputs": [],
   "source": [
    "matches.date = pd.to_datetime(matches.date)\n",
    "matches.time = pd.to_datetime(matches.time).dt.time"
   ]
  },
  {
   "cell_type": "markdown",
   "metadata": {},
   "source": [
    "## Categorical Features"
   ]
  },
  {
   "cell_type": "code",
   "execution_count": 335,
   "metadata": {},
   "outputs": [],
   "source": [
    "matches.yearly_match_number = pd.Categorical(matches.yearly_match_number, ordered=True)\n",
    "matches['round'] = pd.Categorical(matches['round'], ordered=True, categories=['1', '2', '3', '4', '5', '6', '7', '8',\n",
    "                                                           '9', '10', '11', '12', '13', '14', '15', '16',\n",
    "                                                           '17', '18', '19', '20', '21', '22', '23',\n",
    "                                                           '24', 'Elimination Final', 'Qualifying Final',\n",
    "                                                           'Semi Final', 'Preliminary Final', 'Grand Final'])\n",
    "matches.venue = pd.Categorical(matches.venue)\n",
    "matches.home_team = pd.Categorical(matches.home_team)\n",
    "matches.away_team = pd.Categorical(matches.away_team)"
   ]
  },
  {
   "cell_type": "markdown",
   "metadata": {},
   "source": [
    "## Boolean Features"
   ]
  },
  {
   "cell_type": "code",
   "execution_count": 336,
   "metadata": {},
   "outputs": [],
   "source": [
    "matches.is_bye = matches.is_bye.astype(bool)"
   ]
  },
  {
   "cell_type": "markdown",
   "metadata": {},
   "source": [
    "# Missing Values"
   ]
  },
  {
   "cell_type": "code",
   "execution_count": 337,
   "metadata": {},
   "outputs": [
    {
     "data": {
      "text/plain": [
       "yearly_match_number       0\n",
       "round                     0\n",
       "date                    469\n",
       "time                    469\n",
       "attendance             3559\n",
       "venue                   469\n",
       "home_team                 0\n",
       "home_final_score        469\n",
       "away_team               469\n",
       "away_final_score        469\n",
       "is_bye                    0\n",
       "dtype: int64"
      ]
     },
     "execution_count": 337,
     "metadata": {},
     "output_type": "execute_result"
    }
   ],
   "source": [
    "matches.isnull().sum()"
   ]
  },
  {
   "cell_type": "markdown",
   "metadata": {},
   "source": [
    "## Remove Byes\n",
    "As byes don't affect the ELO rating it's not worth having them in the dataset. With all those rows removed we can also drop the column"
   ]
  },
  {
   "cell_type": "code",
   "execution_count": 338,
   "metadata": {},
   "outputs": [],
   "source": [
    "matches = matches[~matches['is_bye']].drop('is_bye', axis=1).reset_index()"
   ]
  },
  {
   "cell_type": "markdown",
   "metadata": {},
   "source": [
    "## Drop Attendance\n",
    "As a significant number of values are missing we will simply drop the feature from the dataset. It's also not really relevant to calculating the ELO rating either"
   ]
  },
  {
   "cell_type": "code",
   "execution_count": 339,
   "metadata": {},
   "outputs": [],
   "source": [
    "matches.drop('attendance', axis=1, inplace=True)"
   ]
  },
  {
   "cell_type": "markdown",
   "metadata": {},
   "source": [
    "# Outliers"
   ]
  },
  {
   "cell_type": "markdown",
   "metadata": {},
   "source": [
    "## Home & Away Final Scores\n",
    "\n",
    "We are unlikely to change anything here as some results are actually outliers, however, we want to make sure the maximum and minimum results are true results and not a mistake in the recording process.\n",
    "\n",
    "Actual Home Max: Fitzroy with 238\n",
    "Actual Away Max: Geelong with 239\n",
    "Actual Home Min: St Kilda with 3\n",
    "Actual Away Min: St Kilda with 1"
   ]
  },
  {
   "cell_type": "markdown",
   "metadata": {},
   "source": [
    "### Home Scores"
   ]
  },
  {
   "cell_type": "code",
   "execution_count": 340,
   "metadata": {},
   "outputs": [
    {
     "name": "stdout",
     "output_type": "stream",
     "text": [
      "Dataset home max Fitzroy with 238.0\n",
      "Dataset home min St Kilda with 3.0\n"
     ]
    }
   ],
   "source": [
    "home_stat_summary = matches.home_final_score.describe()\n",
    "home_iqr = home_stat_summary['75%'] - home_stat_summary['25%']\n",
    "home_lower_fence = home_stat_summary['25%'] - (home_iqr * 1.5)\n",
    "home_upper_fence = home_stat_summary['75%'] + (home_iqr * 1.5)\n",
    "home_outlier_mask = (matches.home_final_score < home_lower_fence) | (matches.home_final_score > home_upper_fence)\n",
    "home_outliers = matches[home_outlier_mask].home_final_score\n",
    "home_max = matches.iloc[home_outliers.idxmax()]\n",
    "home_min = matches.iloc[home_outliers.idxmin()]\n",
    "print(f\"Dataset home max {home_max.home_team} with {home_max.home_final_score}\")\n",
    "print(f\"Dataset home min {home_min.home_team} with {home_min.home_final_score}\")"
   ]
  },
  {
   "cell_type": "code",
   "execution_count": 341,
   "metadata": {},
   "outputs": [
    {
     "name": "stdout",
     "output_type": "stream",
     "text": [
      "Dataset away max Geelong with 239.0\n",
      "Dataset away min St Kilda with 161.0\n"
     ]
    }
   ],
   "source": [
    "away_stat_summary = matches.away_final_score.describe()\n",
    "away_iqr = away_stat_summary['75%'] - away_stat_summary['25%']\n",
    "away_lower_fence = away_stat_summary['25%'] - (away_iqr * 1.5)\n",
    "away_upper_fence = away_stat_summary['75%'] + (away_iqr * 1.5)\n",
    "away_outlier_mask = (matches.away_final_score < away_lower_fence) | (matches.away_final_score > away_upper_fence)\n",
    "away_outliers = matches[away_outlier_mask].away_final_score\n",
    "away_max = matches.iloc[away_outliers.idxmax()]\n",
    "away_min = matches.iloc[away_outliers.idxmin()]\n",
    "print(f\"Dataset away max {away_max.away_team} with {away_max.away_final_score}\")\n",
    "print(f\"Dataset away min {away_min.away_team} with {away_min.away_final_score}\")"
   ]
  },
  {
   "cell_type": "markdown",
   "metadata": {},
   "source": [
    "Interestingly enough the minimum away value was not an outlier :). The maximum and minimum of both were the actual values suggesting there were not way incorrect values in the dateset"
   ]
  },
  {
   "cell_type": "markdown",
   "metadata": {},
   "source": [
    "# Check Categorical Data"
   ]
  },
  {
   "cell_type": "markdown",
   "metadata": {},
   "source": [
    "## Home & Away Team Names\n",
    "Make sure the names are consistent throughout the dataset"
   ]
  },
  {
   "cell_type": "markdown",
   "metadata": {},
   "source": [
    "### Home Team"
   ]
  },
  {
   "cell_type": "code",
   "execution_count": 342,
   "metadata": {},
   "outputs": [
    {
     "data": {
      "text/plain": [
       "Collingwood               1282\n",
       "Carlton                   1268\n",
       "Essendon                  1248\n",
       "Geelong                   1245\n",
       "Melbourne                 1212\n",
       "St Kilda                  1194\n",
       "Richmond                  1148\n",
       "Hawthorn                  1010\n",
       "Fitzroy                    951\n",
       "North Melbourne            892\n",
       "South Melbourne            782\n",
       "Footscray                  712\n",
       "Sydney                     450\n",
       "West Coast                 402\n",
       "Adelaide                   341\n",
       "Fremantle                  292\n",
       "Brisbane Lions             278\n",
       "Port Adelaide              276\n",
       "Western Bulldogs           270\n",
       "Brisbane Bears             111\n",
       "Gold Coast                 109\n",
       "Kangaroos                  105\n",
       "Greater Western Sydney      99\n",
       "University                  63\n",
       "Name: home_team, dtype: int64"
      ]
     },
     "execution_count": 342,
     "metadata": {},
     "output_type": "execute_result"
    }
   ],
   "source": [
    "matches.home_team.value_counts()"
   ]
  },
  {
   "cell_type": "markdown",
   "metadata": {},
   "source": [
    "Looks like North Melbourne were called the `Kangaroos` sometimes for the home team in the dataset"
   ]
  },
  {
   "cell_type": "code",
   "execution_count": 343,
   "metadata": {},
   "outputs": [],
   "source": [
    "matches.loc[matches.home_team == \"Kangaroos\", 'home_team'] = \"North Melbourne\""
   ]
  },
  {
   "cell_type": "code",
   "execution_count": 344,
   "metadata": {},
   "outputs": [
    {
     "data": {
      "text/plain": [
       "Collingwood               1285\n",
       "Carlton                   1253\n",
       "Essendon                  1239\n",
       "Geelong                   1221\n",
       "Melbourne                 1217\n",
       "St Kilda                  1210\n",
       "Richmond                  1153\n",
       "Hawthorn                  1005\n",
       "Fitzroy                    968\n",
       "North Melbourne            902\n",
       "South Melbourne            779\n",
       "Footscray                  719\n",
       "Sydney                     449\n",
       "West Coast                 394\n",
       "Adelaide                   347\n",
       "Fremantle                  290\n",
       "Western Bulldogs           278\n",
       "Port Adelaide              272\n",
       "Brisbane Lions             270\n",
       "Brisbane Bears             111\n",
       "Gold Coast                 106\n",
       "Greater Western Sydney     105\n",
       "Kangaroos                  104\n",
       "University                  63\n",
       "Name: away_team, dtype: int64"
      ]
     },
     "execution_count": 344,
     "metadata": {},
     "output_type": "execute_result"
    }
   ],
   "source": [
    "matches.away_team.value_counts()"
   ]
  },
  {
   "cell_type": "markdown",
   "metadata": {},
   "source": [
    "Same as the home team it appears North Melbourne were labelled as the `Kangaroos` in the away team column as well. "
   ]
  },
  {
   "cell_type": "code",
   "execution_count": 345,
   "metadata": {},
   "outputs": [],
   "source": [
    "matches.loc[matches.away_team == \"Kangaroos\", 'away_team'] = \"North Melbourne\""
   ]
  },
  {
   "cell_type": "markdown",
   "metadata": {},
   "source": [
    "### Fix Home & Away Team Name Data Types\n",
    "\n",
    "Because we removed `Kangaroos` as a value we need to fix up the categories of the data types"
   ]
  },
  {
   "cell_type": "code",
   "execution_count": 346,
   "metadata": {},
   "outputs": [],
   "source": [
    "matches.away_team = matches.away_team.cat.remove_unused_categories()\n",
    "matches.home_team = matches.home_team.cat.remove_unused_categories()"
   ]
  },
  {
   "cell_type": "markdown",
   "metadata": {},
   "source": [
    "# Save Data\n",
    "Will save the data in parquet format to ensure the data types remain for the Elo Ratings"
   ]
  },
  {
   "cell_type": "code",
   "execution_count": 329,
   "metadata": {},
   "outputs": [],
   "source": [
    "# Drop old index value\n",
    "matches.drop('index', axis=1, inplace=True)\n",
    "matches.to_pickle('../data/aflmatches_wo_elo.pypickle')"
   ]
  },
  {
   "cell_type": "code",
   "execution_count": null,
   "metadata": {},
   "outputs": [],
   "source": []
  }
 ],
 "metadata": {
  "interpreter": {
   "hash": "ca51bfabb35fb93036b4024b03febc8321c789044662b490b33430d635d2bec1"
  },
  "kernelspec": {
   "display_name": "Python 3.9.5 64-bit ('venv': venv)",
   "name": "python3"
  },
  "language_info": {
   "codemirror_mode": {
    "name": "ipython",
    "version": 3
   },
   "file_extension": ".py",
   "mimetype": "text/x-python",
   "name": "python",
   "nbconvert_exporter": "python",
   "pygments_lexer": "ipython3",
   "version": "3.9.5"
  },
  "orig_nbformat": 4
 },
 "nbformat": 4,
 "nbformat_minor": 2
}
