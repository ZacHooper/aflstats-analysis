{
 "cells": [
  {
   "cell_type": "markdown",
   "metadata": {},
   "source": [
    "# Apply Elo Ratings\n",
    "Using the research gathered in the \"elo.ipynb\" we will now apply the Elo ratings to the prepped dataset\n",
    "\n",
    "Import required libraries"
   ]
  },
  {
   "cell_type": "code",
   "execution_count": 14,
   "metadata": {},
   "outputs": [],
   "source": [
    "import pandas as pd"
   ]
  },
  {
   "cell_type": "markdown",
   "metadata": {},
   "source": [
    "Create required functions"
   ]
  },
  {
   "cell_type": "code",
   "execution_count": 15,
   "metadata": {},
   "outputs": [],
   "source": [
    "def calculate_expected_probability(team1_current_elo, team2_current_elo):\n",
    "    r1 = team1_current_elo\n",
    "    r2 = team2_current_elo\n",
    "    return 1 / (1 + pow(10, ((r2 - r1) / 400)))\n",
    "\n",
    "def calculate_rating_change(team1_current_elo, team2_current_elo, result):\n",
    "    e1 = calculate_expected_probability(team1_current_elo, team2_current_elo)\n",
    "    r1 = team1_current_elo\n",
    "    k = 16\n",
    "    s1 = result\n",
    "    return r1 + k * (s1 - e1)\n",
    "\n",
    "def get_winner(match):\n",
    "    \"\"\"`match` is a row in the dataset\"\"\"\n",
    "    if match.home_final_score > match.away_final_score:\n",
    "        return match.home_team\n",
    "    elif match.home_final_score < match.away_final_score:\n",
    "        return match.away_team\n",
    "    else:\n",
    "        return \"Draw\" \n",
    "    \n",
    "def get_result_value(team_name, winner):\n",
    "    if team_name == winner:\n",
    "        return 1\n",
    "    elif winner == \"Draw\":\n",
    "        return 0.5\n",
    "    else:\n",
    "        return 0"
   ]
  },
  {
   "cell_type": "markdown",
   "metadata": {},
   "source": [
    "Import data"
   ]
  },
  {
   "cell_type": "code",
   "execution_count": 16,
   "metadata": {},
   "outputs": [],
   "source": [
    "matches = pd.read_pickle(\"../data/aflmatches_wo_elo.pypickle\")"
   ]
  },
  {
   "cell_type": "markdown",
   "metadata": {},
   "source": [
    "Set initial values"
   ]
  },
  {
   "cell_type": "code",
   "execution_count": 17,
   "metadata": {},
   "outputs": [],
   "source": [
    "# Initialise Columns\n",
    "matches['home_team_current_rating'] = 1500\n",
    "matches['away_team_current_rating'] = 1500\n",
    "matches['home_team_new_rating'] = 1500\n",
    "matches['away_team_new_rating'] = 1500\n",
    "\n",
    "# Create dict to hold current ratings\n",
    "current_ratings = {team: 1500 for team in matches.home_team.unique()}"
   ]
  },
  {
   "cell_type": "markdown",
   "metadata": {},
   "source": [
    "Calculate Elo Rating"
   ]
  },
  {
   "cell_type": "code",
   "execution_count": 18,
   "metadata": {},
   "outputs": [
    {
     "data": {
      "text/html": [
       "<div>\n",
       "<style scoped>\n",
       "    .dataframe tbody tr th:only-of-type {\n",
       "        vertical-align: middle;\n",
       "    }\n",
       "\n",
       "    .dataframe tbody tr th {\n",
       "        vertical-align: top;\n",
       "    }\n",
       "\n",
       "    .dataframe thead th {\n",
       "        text-align: right;\n",
       "    }\n",
       "</style>\n",
       "<table border=\"1\" class=\"dataframe\">\n",
       "  <thead>\n",
       "    <tr style=\"text-align: right;\">\n",
       "      <th></th>\n",
       "      <th>yearly_match_number</th>\n",
       "      <th>round</th>\n",
       "      <th>date</th>\n",
       "      <th>time</th>\n",
       "      <th>venue</th>\n",
       "      <th>home_team</th>\n",
       "      <th>home_final_score</th>\n",
       "      <th>away_team</th>\n",
       "      <th>away_final_score</th>\n",
       "      <th>home_team_current_rating</th>\n",
       "      <th>away_team_current_rating</th>\n",
       "      <th>home_team_new_rating</th>\n",
       "      <th>away_team_new_rating</th>\n",
       "      <th>winner</th>\n",
       "    </tr>\n",
       "  </thead>\n",
       "  <tbody>\n",
       "    <tr>\n",
       "      <th>15735</th>\n",
       "      <td>175</td>\n",
       "      <td>Semi Final</td>\n",
       "      <td>2020-10-09</td>\n",
       "      <td>18:50:00</td>\n",
       "      <td>Carrara</td>\n",
       "      <td>Richmond</td>\n",
       "      <td>80.0</td>\n",
       "      <td>St Kilda</td>\n",
       "      <td>49.0</td>\n",
       "      <td>1702</td>\n",
       "      <td>1492</td>\n",
       "      <td>1705</td>\n",
       "      <td>1488</td>\n",
       "      <td>Richmond</td>\n",
       "    </tr>\n",
       "    <tr>\n",
       "      <th>15736</th>\n",
       "      <td>176</td>\n",
       "      <td>Semi Final</td>\n",
       "      <td>2020-10-10</td>\n",
       "      <td>18:40:00</td>\n",
       "      <td>Gabba</td>\n",
       "      <td>Geelong</td>\n",
       "      <td>100.0</td>\n",
       "      <td>Collingwood</td>\n",
       "      <td>32.0</td>\n",
       "      <td>1659</td>\n",
       "      <td>1609</td>\n",
       "      <td>1666</td>\n",
       "      <td>1602</td>\n",
       "      <td>Geelong</td>\n",
       "    </tr>\n",
       "    <tr>\n",
       "      <th>15737</th>\n",
       "      <td>177</td>\n",
       "      <td>Preliminary Final</td>\n",
       "      <td>2020-10-16</td>\n",
       "      <td>19:20:00</td>\n",
       "      <td>Adelaide Oval</td>\n",
       "      <td>Port Adelaide</td>\n",
       "      <td>40.0</td>\n",
       "      <td>Richmond</td>\n",
       "      <td>46.0</td>\n",
       "      <td>1626</td>\n",
       "      <td>1705</td>\n",
       "      <td>1620</td>\n",
       "      <td>1711</td>\n",
       "      <td>Richmond</td>\n",
       "    </tr>\n",
       "    <tr>\n",
       "      <th>15738</th>\n",
       "      <td>178</td>\n",
       "      <td>Preliminary Final</td>\n",
       "      <td>2020-10-17</td>\n",
       "      <td>18:40:00</td>\n",
       "      <td>Gabba</td>\n",
       "      <td>Brisbane Lions</td>\n",
       "      <td>42.0</td>\n",
       "      <td>Geelong</td>\n",
       "      <td>82.0</td>\n",
       "      <td>1571</td>\n",
       "      <td>1666</td>\n",
       "      <td>1566</td>\n",
       "      <td>1672</td>\n",
       "      <td>Geelong</td>\n",
       "    </tr>\n",
       "    <tr>\n",
       "      <th>15739</th>\n",
       "      <td>179</td>\n",
       "      <td>Grand Final</td>\n",
       "      <td>2020-10-24</td>\n",
       "      <td>18:30:00</td>\n",
       "      <td>Gabba</td>\n",
       "      <td>Richmond</td>\n",
       "      <td>81.0</td>\n",
       "      <td>Geelong</td>\n",
       "      <td>50.0</td>\n",
       "      <td>1711</td>\n",
       "      <td>1672</td>\n",
       "      <td>1719</td>\n",
       "      <td>1665</td>\n",
       "      <td>Richmond</td>\n",
       "    </tr>\n",
       "  </tbody>\n",
       "</table>\n",
       "</div>"
      ],
      "text/plain": [
       "      yearly_match_number              round       date      time  \\\n",
       "15735                 175         Semi Final 2020-10-09  18:50:00   \n",
       "15736                 176         Semi Final 2020-10-10  18:40:00   \n",
       "15737                 177  Preliminary Final 2020-10-16  19:20:00   \n",
       "15738                 178  Preliminary Final 2020-10-17  18:40:00   \n",
       "15739                 179        Grand Final 2020-10-24  18:30:00   \n",
       "\n",
       "               venue       home_team  home_final_score    away_team  \\\n",
       "15735        Carrara        Richmond              80.0     St Kilda   \n",
       "15736          Gabba         Geelong             100.0  Collingwood   \n",
       "15737  Adelaide Oval   Port Adelaide              40.0     Richmond   \n",
       "15738          Gabba  Brisbane Lions              42.0      Geelong   \n",
       "15739          Gabba        Richmond              81.0      Geelong   \n",
       "\n",
       "       away_final_score  home_team_current_rating  away_team_current_rating  \\\n",
       "15735              49.0                      1702                      1492   \n",
       "15736              32.0                      1659                      1609   \n",
       "15737              46.0                      1626                      1705   \n",
       "15738              82.0                      1571                      1666   \n",
       "15739              50.0                      1711                      1672   \n",
       "\n",
       "       home_team_new_rating  away_team_new_rating    winner  \n",
       "15735                  1705                  1488  Richmond  \n",
       "15736                  1666                  1602   Geelong  \n",
       "15737                  1620                  1711  Richmond  \n",
       "15738                  1566                  1672   Geelong  \n",
       "15739                  1719                  1665  Richmond  "
      ]
     },
     "execution_count": 18,
     "metadata": {},
     "output_type": "execute_result"
    }
   ],
   "source": [
    "# Calculate winners\n",
    "matches['winner'] = matches.apply(get_winner, axis=1)\n",
    "\n",
    "# Loop through every match\n",
    "for index, match in matches.iterrows():\n",
    "    # Update Current Ratings\n",
    "    home_team_current_rating = current_ratings[match.home_team]\n",
    "    away_team_current_rating = current_ratings[match.away_team]\n",
    "    \n",
    "    # Get New Ratings\n",
    "    home_team_new_rating = calculate_rating_change(home_team_current_rating, \n",
    "                                                   away_team_current_rating, \n",
    "                                                   get_result_value(match.home_team, match.winner))\n",
    "    \n",
    "    away_team_new_rating = calculate_rating_change(away_team_current_rating, \n",
    "                                                   home_team_current_rating, \n",
    "                                                   get_result_value(match.away_team, match.winner))\n",
    "    \n",
    "    # Update Current Rating Dict\n",
    "    current_ratings[match.home_team] = home_team_new_rating\n",
    "    current_ratings[match.away_team] = away_team_new_rating\n",
    "        \n",
    "    # Update DF\n",
    "    matches.at[index, 'home_team_current_rating'] = home_team_current_rating\n",
    "    matches.at[index, 'away_team_current_rating'] = away_team_current_rating\n",
    "    matches.at[index, 'home_team_new_rating'] = home_team_new_rating\n",
    "    matches.at[index, 'away_team_new_rating'] = away_team_new_rating\n",
    "\n",
    "matches.tail(5)"
   ]
  },
  {
   "cell_type": "markdown",
   "metadata": {},
   "source": [
    "Output data to file"
   ]
  },
  {
   "cell_type": "code",
   "execution_count": 19,
   "metadata": {},
   "outputs": [],
   "source": [
    "matches.to_pickle('../data/aflmatches_elo.pypickle')"
   ]
  },
  {
   "cell_type": "code",
   "execution_count": null,
   "metadata": {},
   "outputs": [],
   "source": []
  }
 ],
 "metadata": {
  "interpreter": {
   "hash": "ca51bfabb35fb93036b4024b03febc8321c789044662b490b33430d635d2bec1"
  },
  "kernelspec": {
   "display_name": "Python 3.9.5 64-bit ('venv': venv)",
   "name": "python3"
  },
  "language_info": {
   "codemirror_mode": {
    "name": "ipython",
    "version": 3
   },
   "file_extension": ".py",
   "mimetype": "text/x-python",
   "name": "python",
   "nbconvert_exporter": "python",
   "pygments_lexer": "ipython3",
   "version": "3.9.5"
  },
  "orig_nbformat": 4
 },
 "nbformat": 4,
 "nbformat_minor": 2
}
